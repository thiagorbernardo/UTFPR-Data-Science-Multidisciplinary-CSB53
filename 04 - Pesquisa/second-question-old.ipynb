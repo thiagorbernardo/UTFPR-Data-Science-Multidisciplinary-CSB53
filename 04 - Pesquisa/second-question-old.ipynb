{
 "cells": [
  {
   "cell_type": "markdown",
   "id": "e1920260-c4f6-4d33-8115-a69403c122f4",
   "metadata": {},
   "source": [
    "## Modelo para testar a hipótese \"Certos tipos de crime acontecem com mais frequência após o horário de expediente (depois das 17h)\""
   ]
  },
  {
   "cell_type": "code",
   "execution_count": 1,
   "id": "ad18c513-23e5-44a0-863e-80fe3ba736e4",
   "metadata": {},
   "outputs": [],
   "source": [
    "import pandas as pd\n",
    "import matplotlib.pyplot as plt\n",
    "import seaborn as sns\n",
    "import numpy as np\n",
    "import os\n",
    "pd.set_option('display.max_columns', None)"
   ]
  },
  {
   "cell_type": "code",
   "execution_count": 2,
   "id": "f79bb604-10a5-456c-ac2e-9063446fb1fc",
   "metadata": {},
   "outputs": [],
   "source": [
    "path = os.path.abspath('../data/analise_crime_filtrado.csv')\n",
    "df = pd.read_csv(path,comment='#', low_memory=False)"
   ]
  },
  {
   "cell_type": "code",
   "execution_count": 3,
   "id": "0244397f-ecd6-4477-bf67-c026ec55ffac",
   "metadata": {},
   "outputs": [
    {
     "data": {
      "text/html": [
       "<div>\n",
       "<style scoped>\n",
       "    .dataframe tbody tr th:only-of-type {\n",
       "        vertical-align: middle;\n",
       "    }\n",
       "\n",
       "    .dataframe tbody tr th {\n",
       "        vertical-align: top;\n",
       "    }\n",
       "\n",
       "    .dataframe thead th {\n",
       "        text-align: right;\n",
       "    }\n",
       "</style>\n",
       "<table border=\"1\" class=\"dataframe\">\n",
       "  <thead>\n",
       "    <tr style=\"text-align: right;\">\n",
       "      <th></th>\n",
       "      <th>OCORRENCIA_CODIGO</th>\n",
       "      <th>NATUREZA1_DESCRICAO</th>\n",
       "      <th>NATUREZA</th>\n",
       "      <th>ATENDIMENTO_BAIRRO_NOME</th>\n",
       "      <th>REGIONAL_FATO_NOME</th>\n",
       "      <th>OCORRENCIA_ANO</th>\n",
       "      <th>OCORRENCIA_DATA</th>\n",
       "      <th>OCORRENCIA_HORA</th>\n",
       "      <th>OCORRENCIA_HORA_SEM_MINUTO</th>\n",
       "      <th>OCORRENCIA_MES</th>\n",
       "      <th>OCORRENCIA_DIA_SEMANA</th>\n",
       "      <th>OCORRENCIA_DATA_SEM_HORARIO</th>\n",
       "      <th>FERIADO</th>\n",
       "      <th>LATITUDE</th>\n",
       "      <th>LONGITUDE</th>\n",
       "    </tr>\n",
       "  </thead>\n",
       "  <tbody>\n",
       "    <tr>\n",
       "      <th>0</th>\n",
       "      <td>5122.0</td>\n",
       "      <td>Roubo</td>\n",
       "      <td>ROUBO</td>\n",
       "      <td>XAXIM</td>\n",
       "      <td>BOQUEIRÃO</td>\n",
       "      <td>2009.0</td>\n",
       "      <td>2009-03-13 09:20:00.000</td>\n",
       "      <td>09:20:00</td>\n",
       "      <td>9</td>\n",
       "      <td>3.0</td>\n",
       "      <td>SEXTA</td>\n",
       "      <td>2009-03-13</td>\n",
       "      <td>0.0</td>\n",
       "      <td>-25.426683</td>\n",
       "      <td>-49.272357</td>\n",
       "    </tr>\n",
       "    <tr>\n",
       "      <th>1</th>\n",
       "      <td>5507.0</td>\n",
       "      <td>Atos obscenos/libidinosos</td>\n",
       "      <td>PUDOR</td>\n",
       "      <td>BAIRRO ALTO</td>\n",
       "      <td>BOA VISTA</td>\n",
       "      <td>2009.0</td>\n",
       "      <td>2009-03-19 12:05:00.000</td>\n",
       "      <td>12:05:00</td>\n",
       "      <td>12</td>\n",
       "      <td>3.0</td>\n",
       "      <td>QUINTA</td>\n",
       "      <td>2009-03-19</td>\n",
       "      <td>0.0</td>\n",
       "      <td>-25.412337</td>\n",
       "      <td>-49.205083</td>\n",
       "    </tr>\n",
       "    <tr>\n",
       "      <th>2</th>\n",
       "      <td>4899.0</td>\n",
       "      <td>Embriaguez</td>\n",
       "      <td>RISCO_VIDA</td>\n",
       "      <td>FAZENDINHA</td>\n",
       "      <td>PORTÃO</td>\n",
       "      <td>2009.0</td>\n",
       "      <td>2009-03-09 14:00:00.000</td>\n",
       "      <td>14:00:00</td>\n",
       "      <td>14</td>\n",
       "      <td>3.0</td>\n",
       "      <td>SEGUNDA</td>\n",
       "      <td>2009-03-09</td>\n",
       "      <td>0.0</td>\n",
       "      <td>NaN</td>\n",
       "      <td>NaN</td>\n",
       "    </tr>\n",
       "    <tr>\n",
       "      <th>3</th>\n",
       "      <td>5401.0</td>\n",
       "      <td>Furto</td>\n",
       "      <td>ROUBO</td>\n",
       "      <td>FAZENDINHA</td>\n",
       "      <td>PORTÃO</td>\n",
       "      <td>2009.0</td>\n",
       "      <td>2009-03-16 20:11:00.000</td>\n",
       "      <td>20:11:00</td>\n",
       "      <td>20</td>\n",
       "      <td>3.0</td>\n",
       "      <td>SEGUNDA</td>\n",
       "      <td>2009-03-16</td>\n",
       "      <td>0.0</td>\n",
       "      <td>NaN</td>\n",
       "      <td>NaN</td>\n",
       "    </tr>\n",
       "  </tbody>\n",
       "</table>\n",
       "</div>"
      ],
      "text/plain": [
       "   OCORRENCIA_CODIGO        NATUREZA1_DESCRICAO    NATUREZA  \\\n",
       "0             5122.0                      Roubo       ROUBO   \n",
       "1             5507.0  Atos obscenos/libidinosos       PUDOR   \n",
       "2             4899.0                 Embriaguez  RISCO_VIDA   \n",
       "3             5401.0                      Furto       ROUBO   \n",
       "\n",
       "  ATENDIMENTO_BAIRRO_NOME REGIONAL_FATO_NOME  OCORRENCIA_ANO  \\\n",
       "0                   XAXIM          BOQUEIRÃO          2009.0   \n",
       "1             BAIRRO ALTO          BOA VISTA          2009.0   \n",
       "2              FAZENDINHA             PORTÃO          2009.0   \n",
       "3              FAZENDINHA             PORTÃO          2009.0   \n",
       "\n",
       "           OCORRENCIA_DATA OCORRENCIA_HORA  OCORRENCIA_HORA_SEM_MINUTO  \\\n",
       "0  2009-03-13 09:20:00.000        09:20:00                           9   \n",
       "1  2009-03-19 12:05:00.000        12:05:00                          12   \n",
       "2  2009-03-09 14:00:00.000        14:00:00                          14   \n",
       "3  2009-03-16 20:11:00.000        20:11:00                          20   \n",
       "\n",
       "   OCORRENCIA_MES OCORRENCIA_DIA_SEMANA OCORRENCIA_DATA_SEM_HORARIO  FERIADO  \\\n",
       "0             3.0                 SEXTA                  2009-03-13      0.0   \n",
       "1             3.0                QUINTA                  2009-03-19      0.0   \n",
       "2             3.0               SEGUNDA                  2009-03-09      0.0   \n",
       "3             3.0               SEGUNDA                  2009-03-16      0.0   \n",
       "\n",
       "    LATITUDE  LONGITUDE  \n",
       "0 -25.426683 -49.272357  \n",
       "1 -25.412337 -49.205083  \n",
       "2        NaN        NaN  \n",
       "3        NaN        NaN  "
      ]
     },
     "execution_count": 3,
     "metadata": {},
     "output_type": "execute_result"
    }
   ],
   "source": [
    "df.head(4)"
   ]
  },
  {
   "cell_type": "code",
   "execution_count": 4,
   "id": "de91fc95-80b9-40bb-9e40-283c39140a52",
   "metadata": {},
   "outputs": [
    {
     "data": {
      "text/plain": [
       "ROUBO           26839\n",
       "AGRESSAO        15361\n",
       "RISCO_VIDA       4382\n",
       "CRIME_MULHER     3681\n",
       "PUDOR            2805\n",
       "SEQUESTRO         415\n",
       "MORTES            141\n",
       "ESTUPRO           108\n",
       "EXPLORACAO         17\n",
       "Name: NATUREZA, dtype: int64"
      ]
     },
     "execution_count": 4,
     "metadata": {},
     "output_type": "execute_result"
    }
   ],
   "source": [
    "nature_count = df.NATUREZA.value_counts()\n",
    "nature_count"
   ]
  },
  {
   "cell_type": "markdown",
   "id": "7063128a-fffa-4009-89fd-d023dcc2c075",
   "metadata": {},
   "source": [
    "## Equalizando a quantidade de crimes aleatoriamente"
   ]
  },
  {
   "cell_type": "code",
   "execution_count": 5,
   "id": "7175b926-613d-4fa6-bbab-abf46f8b8f97",
   "metadata": {},
   "outputs": [
    {
     "data": {
      "text/plain": [
       "OCORRENCIA_CODIGO              26826\n",
       "NATUREZA1_DESCRICAO            26826\n",
       "NATUREZA                       26826\n",
       "ATENDIMENTO_BAIRRO_NOME        26826\n",
       "REGIONAL_FATO_NOME             26826\n",
       "OCORRENCIA_ANO                 26826\n",
       "OCORRENCIA_DATA                26826\n",
       "OCORRENCIA_HORA                26826\n",
       "OCORRENCIA_HORA_SEM_MINUTO     26826\n",
       "OCORRENCIA_MES                 26826\n",
       "OCORRENCIA_DIA_SEMANA          26826\n",
       "OCORRENCIA_DATA_SEM_HORARIO    26826\n",
       "FERIADO                        26826\n",
       "LATITUDE                       26826\n",
       "LONGITUDE                      26826\n",
       "dtype: int64"
      ]
     },
     "execution_count": 5,
     "metadata": {},
     "output_type": "execute_result"
    }
   ],
   "source": [
    "df_explor = df.loc[df.NATUREZA == \"EXPLORACAO\"]\n",
    "df_explor.loc[df_explor.index.repeat(nature_count[\"ROUBO\"] / nature_count[\"EXPLORACAO\"])].count()"
   ]
  },
  {
   "cell_type": "code",
   "execution_count": 6,
   "id": "e723918c-7ce8-419f-b6b7-160b795d3edc",
   "metadata": {},
   "outputs": [],
   "source": [
    "from math import ceil\n",
    "def replicate_data(df, nature):\n",
    "    df_temp = df.loc[df.NATUREZA == nature]\n",
    "    df_temp = df_temp.loc[df_temp.index.repeat(ceil(nature_count[\"ROUBO\"] / nature_count[nature]))]\n",
    "    return df_temp.sample(n=nature_count[\"ROUBO\"])"
   ]
  },
  {
   "cell_type": "code",
   "execution_count": 26,
   "id": "e27918c7-23f1-44c5-b193-f81abd19a43e",
   "metadata": {},
   "outputs": [],
   "source": [
    "df_qtd = df.loc[df.NATUREZA == \"ROUBO\"]\n",
    "df_qtd = pd.concat([df_qtd, replicate_data(df, \"EXPLORACAO\")])\n",
    "df_qtd = pd.concat([df_qtd, replicate_data(df, \"ESTUPRO\")])\n",
    "df_qtd = pd.concat([df_qtd, replicate_data(df, \"MORTES\")])\n",
    "df_qtd = pd.concat([df_qtd, replicate_data(df, \"SEQUESTRO\")])\n",
    "df_qtd = pd.concat([df_qtd, replicate_data(df, \"PUDOR\")])\n",
    "df_qtd = pd.concat([df_qtd, replicate_data(df, \"CRIME_MULHER\")])\n",
    "df_qtd = pd.concat([df_qtd, replicate_data(df, \"RISCO_VIDA\")])\n",
    "df_qtd = pd.concat([df_qtd, replicate_data(df, \"AGRESSAO\")])"
   ]
  },
  {
   "cell_type": "code",
   "execution_count": 27,
   "id": "22b6c37c-1d69-49a9-8d9d-d326c93be2a4",
   "metadata": {},
   "outputs": [
    {
     "data": {
      "text/plain": [
       "ROUBO           0.111111\n",
       "EXPLORACAO      0.111111\n",
       "ESTUPRO         0.111111\n",
       "MORTES          0.111111\n",
       "SEQUESTRO       0.111111\n",
       "PUDOR           0.111111\n",
       "CRIME_MULHER    0.111111\n",
       "RISCO_VIDA      0.111111\n",
       "AGRESSAO        0.111111\n",
       "Name: NATUREZA, dtype: float64"
      ]
     },
     "execution_count": 27,
     "metadata": {},
     "output_type": "execute_result"
    }
   ],
   "source": [
    "df_qtd.NATUREZA.value_counts(normalize=True)"
   ]
  },
  {
   "cell_type": "code",
   "execution_count": 28,
   "id": "80355e29-720c-43c0-a46b-b5432183b1cd",
   "metadata": {},
   "outputs": [
    {
     "data": {
      "text/plain": [
       "['OCORRENCIA_CODIGO',\n",
       " 'NATUREZA1_DESCRICAO',\n",
       " 'NATUREZA',\n",
       " 'ATENDIMENTO_BAIRRO_NOME',\n",
       " 'REGIONAL_FATO_NOME',\n",
       " 'OCORRENCIA_ANO',\n",
       " 'OCORRENCIA_DATA',\n",
       " 'OCORRENCIA_HORA',\n",
       " 'OCORRENCIA_HORA_SEM_MINUTO',\n",
       " 'OCORRENCIA_MES',\n",
       " 'OCORRENCIA_DIA_SEMANA',\n",
       " 'OCORRENCIA_DATA_SEM_HORARIO',\n",
       " 'FERIADO',\n",
       " 'LATITUDE',\n",
       " 'LONGITUDE']"
      ]
     },
     "execution_count": 28,
     "metadata": {},
     "output_type": "execute_result"
    }
   ],
   "source": [
    "list(df_qtd.columns)"
   ]
  },
  {
   "cell_type": "markdown",
   "id": "f8727631-5408-4a7b-9f6b-e44d56bcd4d5",
   "metadata": {},
   "source": [
    "### Selecionando crimes como antes ou depois das 17h"
   ]
  },
  {
   "cell_type": "code",
   "execution_count": 29,
   "id": "76ccc3a4-0b9b-474e-841f-6b08cb62b628",
   "metadata": {},
   "outputs": [
    {
     "data": {
      "text/html": [
       "<div>\n",
       "<style scoped>\n",
       "    .dataframe tbody tr th:only-of-type {\n",
       "        vertical-align: middle;\n",
       "    }\n",
       "\n",
       "    .dataframe tbody tr th {\n",
       "        vertical-align: top;\n",
       "    }\n",
       "\n",
       "    .dataframe thead th {\n",
       "        text-align: right;\n",
       "    }\n",
       "</style>\n",
       "<table border=\"1\" class=\"dataframe\">\n",
       "  <thead>\n",
       "    <tr style=\"text-align: right;\">\n",
       "      <th></th>\n",
       "      <th>OCORRENCIA_CODIGO</th>\n",
       "      <th>NATUREZA1_DESCRICAO</th>\n",
       "      <th>NATUREZA</th>\n",
       "      <th>ATENDIMENTO_BAIRRO_NOME</th>\n",
       "      <th>REGIONAL_FATO_NOME</th>\n",
       "      <th>OCORRENCIA_ANO</th>\n",
       "      <th>OCORRENCIA_DATA</th>\n",
       "      <th>OCORRENCIA_HORA</th>\n",
       "      <th>OCORRENCIA_HORA_SEM_MINUTO</th>\n",
       "      <th>OCORRENCIA_MES</th>\n",
       "      <th>OCORRENCIA_DIA_SEMANA</th>\n",
       "      <th>OCORRENCIA_DATA_SEM_HORARIO</th>\n",
       "      <th>FERIADO</th>\n",
       "      <th>LATITUDE</th>\n",
       "      <th>LONGITUDE</th>\n",
       "      <th>HORA_DEPOIS_17</th>\n",
       "    </tr>\n",
       "  </thead>\n",
       "  <tbody>\n",
       "    <tr>\n",
       "      <th>0</th>\n",
       "      <td>5122.0</td>\n",
       "      <td>Roubo</td>\n",
       "      <td>ROUBO</td>\n",
       "      <td>XAXIM</td>\n",
       "      <td>BOQUEIRÃO</td>\n",
       "      <td>2009.0</td>\n",
       "      <td>2009-03-13 09:20:00.000</td>\n",
       "      <td>09:20:00</td>\n",
       "      <td>9</td>\n",
       "      <td>3.0</td>\n",
       "      <td>SEXTA</td>\n",
       "      <td>2009-03-13</td>\n",
       "      <td>0.0</td>\n",
       "      <td>-25.426683</td>\n",
       "      <td>-49.272357</td>\n",
       "      <td>0.0</td>\n",
       "    </tr>\n",
       "    <tr>\n",
       "      <th>3</th>\n",
       "      <td>5401.0</td>\n",
       "      <td>Furto</td>\n",
       "      <td>ROUBO</td>\n",
       "      <td>FAZENDINHA</td>\n",
       "      <td>PORTÃO</td>\n",
       "      <td>2009.0</td>\n",
       "      <td>2009-03-16 20:11:00.000</td>\n",
       "      <td>20:11:00</td>\n",
       "      <td>20</td>\n",
       "      <td>3.0</td>\n",
       "      <td>SEGUNDA</td>\n",
       "      <td>2009-03-16</td>\n",
       "      <td>0.0</td>\n",
       "      <td>NaN</td>\n",
       "      <td>NaN</td>\n",
       "      <td>1.0</td>\n",
       "    </tr>\n",
       "  </tbody>\n",
       "</table>\n",
       "</div>"
      ],
      "text/plain": [
       "   OCORRENCIA_CODIGO NATUREZA1_DESCRICAO NATUREZA ATENDIMENTO_BAIRRO_NOME  \\\n",
       "0             5122.0               Roubo    ROUBO                   XAXIM   \n",
       "3             5401.0               Furto    ROUBO              FAZENDINHA   \n",
       "\n",
       "  REGIONAL_FATO_NOME  OCORRENCIA_ANO          OCORRENCIA_DATA OCORRENCIA_HORA  \\\n",
       "0          BOQUEIRÃO          2009.0  2009-03-13 09:20:00.000        09:20:00   \n",
       "3             PORTÃO          2009.0  2009-03-16 20:11:00.000        20:11:00   \n",
       "\n",
       "   OCORRENCIA_HORA_SEM_MINUTO  OCORRENCIA_MES OCORRENCIA_DIA_SEMANA  \\\n",
       "0                           9             3.0                 SEXTA   \n",
       "3                          20             3.0               SEGUNDA   \n",
       "\n",
       "  OCORRENCIA_DATA_SEM_HORARIO  FERIADO   LATITUDE  LONGITUDE  HORA_DEPOIS_17  \n",
       "0                  2009-03-13      0.0 -25.426683 -49.272357             0.0  \n",
       "3                  2009-03-16      0.0        NaN        NaN             1.0  "
      ]
     },
     "execution_count": 29,
     "metadata": {},
     "output_type": "execute_result"
    }
   ],
   "source": [
    "df_qtd[\"HORA_DEPOIS_17\"] = df_qtd[\"OCORRENCIA_HORA_SEM_MINUTO\"] >= 17\n",
    "df_qtd[\"HORA_DEPOIS_17\"] = df_qtd[\"HORA_DEPOIS_17\"].astype(float)\n",
    "df_qtd.head(2)"
   ]
  },
  {
   "cell_type": "markdown",
   "id": "3ca18156-dc85-4d2a-8728-7685f22f3e7b",
   "metadata": {},
   "source": [
    "### Alterando labels de tipo de crime para número"
   ]
  },
  {
   "cell_type": "code",
   "execution_count": 30,
   "id": "009b5352-7924-4204-a542-164e085f254b",
   "metadata": {},
   "outputs": [],
   "source": [
    "categories = ['ROUBO', 'PUDOR', 'RISCO_VIDA', 'AGRESSAO', 'SEQUESTRO', 'ESTUPRO', 'CRIME_MULHER', 'MORTES', 'EXPLORACAO']\n",
    "categories_labels = [0,1,2,3,4,5,6,7,8]\n",
    "\n",
    "def get_index_category(occurence):\n",
    "    return categories.index(occurence)\n",
    "df_qtd['NATUREZA_LABEL'] = df_qtd['NATUREZA'].apply(get_index_category)\n",
    "df_qtd['NATUREZA_LABEL'] = df_qtd['NATUREZA_LABEL'].astype(float)"
   ]
  },
  {
   "cell_type": "code",
   "execution_count": 31,
   "id": "be73a615-f5c3-4dd8-87fa-d2afd8cd5e5d",
   "metadata": {},
   "outputs": [],
   "source": [
    "df_qtd = df_qtd[['NATUREZA_LABEL', 'HORA_DEPOIS_17']]"
   ]
  },
  {
   "cell_type": "code",
   "execution_count": 112,
   "id": "c8fa6f1a-c06d-4d43-990c-c43bb681fbb6",
   "metadata": {},
   "outputs": [],
   "source": [
    "from collections import defaultdict\n",
    "from scipy.spatial.distance import pdist, squareform\n",
    "from scipy.cluster.hierarchy import linkage, dendrogram, fcluster\n",
    "from matplotlib.colors import rgb2hex, colorConverter\n",
    "from scipy.cluster.hierarchy import set_link_color_palette"
   ]
  },
  {
   "cell_type": "code",
   "execution_count": 166,
   "id": "c1eec31d-8616-4960-bbf4-913da8684815",
   "metadata": {},
   "outputs": [],
   "source": [
    "df_cluster = df_qtd.sample(1000)"
   ]
  },
  {
   "cell_type": "code",
   "execution_count": 161,
   "id": "ec8e05bd-65f6-403c-8af2-124d6f120bd7",
   "metadata": {},
   "outputs": [],
   "source": [
    "from scipy.cluster.vq import whiten\n",
    "df_cluster = pd.DataFrame(whiten(df_cluster.to_numpy())).describe()"
   ]
  },
  {
   "cell_type": "code",
   "execution_count": 168,
   "id": "0268c585-66f3-4279-a92a-e82b3d50abae",
   "metadata": {},
   "outputs": [],
   "source": [
    "c_dist = pdist(df_cluster)\n",
    "c_link = linkage(df_cluster,  metric='euclidean', method='ward')"
   ]
  },
  {
   "cell_type": "code",
   "execution_count": 169,
   "id": "3ddedd02-f793-4e5f-9636-70a65069f2de",
   "metadata": {},
   "outputs": [
    {
     "data": {
      "image/png": "[encoded data removed]",
      "text/plain": [
       "<Figure size 432x288 with 1 Axes>"
      ]
     },
     "metadata": {
      "needs_background": "light"
     },
     "output_type": "display_data"
    }
   ],
   "source": [
    "dendrogram(c_link)\n",
    "plt.title('Dendrogram')\n",
    "plt.show()"
   ]
  },
  {
   "cell_type": "code",
   "execution_count": 171,
   "id": "c79d11b4-6a3c-45a9-9ea2-81dbf4348154",
   "metadata": {},
   "outputs": [],
   "source": [
    "df_cluster['cluster_labels'] = fcluster(c_link, 3, criterion='maxclust')"
   ]
  },
  {
   "cell_type": "code",
   "execution_count": 173,
   "id": "ebe0dbdf-4d36-491e-b57e-bf5af7d3300a",
   "metadata": {},
   "outputs": [
    {
     "data": {
      "text/html": [
       "<div>\n",
       "<style scoped>\n",
       "    .dataframe tbody tr th:only-of-type {\n",
       "        vertical-align: middle;\n",
       "    }\n",
       "\n",
       "    .dataframe tbody tr th {\n",
       "        vertical-align: top;\n",
       "    }\n",
       "\n",
       "    .dataframe thead th {\n",
       "        text-align: right;\n",
       "    }\n",
       "</style>\n",
       "<table border=\"1\" class=\"dataframe\">\n",
       "  <thead>\n",
       "    <tr style=\"text-align: right;\">\n",
       "      <th></th>\n",
       "      <th>NATUREZA_LABEL</th>\n",
       "      <th>HORA_DEPOIS_17</th>\n",
       "      <th>cluster_labels</th>\n",
       "    </tr>\n",
       "  </thead>\n",
       "  <tbody>\n",
       "    <tr>\n",
       "      <th>26263</th>\n",
       "      <td>5.0</td>\n",
       "      <td>1.0</td>\n",
       "      <td>1</td>\n",
       "    </tr>\n",
       "    <tr>\n",
       "      <th>42150</th>\n",
       "      <td>8.0</td>\n",
       "      <td>0.0</td>\n",
       "      <td>1</td>\n",
       "    </tr>\n",
       "    <tr>\n",
       "      <th>37092</th>\n",
       "      <td>0.0</td>\n",
       "      <td>1.0</td>\n",
       "      <td>3</td>\n",
       "    </tr>\n",
       "    <tr>\n",
       "      <th>52570</th>\n",
       "      <td>4.0</td>\n",
       "      <td>0.0</td>\n",
       "      <td>2</td>\n",
       "    </tr>\n",
       "    <tr>\n",
       "      <th>17769</th>\n",
       "      <td>6.0</td>\n",
       "      <td>0.0</td>\n",
       "      <td>1</td>\n",
       "    </tr>\n",
       "    <tr>\n",
       "      <th>...</th>\n",
       "      <td>...</td>\n",
       "      <td>...</td>\n",
       "      <td>...</td>\n",
       "    </tr>\n",
       "    <tr>\n",
       "      <th>19361</th>\n",
       "      <td>3.0</td>\n",
       "      <td>1.0</td>\n",
       "      <td>2</td>\n",
       "    </tr>\n",
       "    <tr>\n",
       "      <th>6345</th>\n",
       "      <td>6.0</td>\n",
       "      <td>1.0</td>\n",
       "      <td>1</td>\n",
       "    </tr>\n",
       "    <tr>\n",
       "      <th>50913</th>\n",
       "      <td>3.0</td>\n",
       "      <td>0.0</td>\n",
       "      <td>2</td>\n",
       "    </tr>\n",
       "    <tr>\n",
       "      <th>1708</th>\n",
       "      <td>1.0</td>\n",
       "      <td>0.0</td>\n",
       "      <td>3</td>\n",
       "    </tr>\n",
       "    <tr>\n",
       "      <th>35704</th>\n",
       "      <td>8.0</td>\n",
       "      <td>0.0</td>\n",
       "      <td>1</td>\n",
       "    </tr>\n",
       "  </tbody>\n",
       "</table>\n",
       "<p>1000 rows × 3 columns</p>\n",
       "</div>"
      ],
      "text/plain": [
       "       NATUREZA_LABEL  HORA_DEPOIS_17  cluster_labels\n",
       "26263             5.0             1.0               1\n",
       "42150             8.0             0.0               1\n",
       "37092             0.0             1.0               3\n",
       "52570             4.0             0.0               2\n",
       "17769             6.0             0.0               1\n",
       "...               ...             ...             ...\n",
       "19361             3.0             1.0               2\n",
       "6345              6.0             1.0               1\n",
       "50913             3.0             0.0               2\n",
       "1708              1.0             0.0               3\n",
       "35704             8.0             0.0               1\n",
       "\n",
       "[1000 rows x 3 columns]"
      ]
     },
     "execution_count": 173,
     "metadata": {},
     "output_type": "execute_result"
    }
   ],
   "source": [
    "df_cluster"
   ]
  },
  {
   "cell_type": "code",
   "execution_count": 172,
   "id": "aaf152fa-4f8c-4559-9b53-7737e5bfc84d",
   "metadata": {},
   "outputs": [
    {
     "ename": "KeyError",
     "evalue": "0",
     "output_type": "error",
     "traceback": [
      "\u001b[1;31m---------------------------------------------------------------------------\u001b[0m",
      "\u001b[1;31mKeyError\u001b[0m                                  Traceback (most recent call last)",
      "File \u001b[1;32m~\\anaconda3\\lib\\site-packages\\pandas\\core\\indexes\\base.py:3629\u001b[0m, in \u001b[0;36mIndex.get_loc\u001b[1;34m(self, key, method, tolerance)\u001b[0m\n\u001b[0;32m   3628\u001b[0m \u001b[38;5;28;01mtry\u001b[39;00m:\n\u001b[1;32m-> 3629\u001b[0m     \u001b[38;5;28;01mreturn\u001b[39;00m \u001b[38;5;28;43mself\u001b[39;49m\u001b[38;5;241;43m.\u001b[39;49m\u001b[43m_engine\u001b[49m\u001b[38;5;241;43m.\u001b[39;49m\u001b[43mget_loc\u001b[49m\u001b[43m(\u001b[49m\u001b[43mcasted_key\u001b[49m\u001b[43m)\u001b[49m\n\u001b[0;32m   3630\u001b[0m \u001b[38;5;28;01mexcept\u001b[39;00m \u001b[38;5;167;01mKeyError\u001b[39;00m \u001b[38;5;28;01mas\u001b[39;00m err:\n",
      "File \u001b[1;32m~\\anaconda3\\lib\\site-packages\\pandas\\_libs\\index.pyx:136\u001b[0m, in \u001b[0;36mpandas._libs.index.IndexEngine.get_loc\u001b[1;34m()\u001b[0m\n",
      "File \u001b[1;32m~\\anaconda3\\lib\\site-packages\\pandas\\_libs\\index.pyx:163\u001b[0m, in \u001b[0;36mpandas._libs.index.IndexEngine.get_loc\u001b[1;34m()\u001b[0m\n",
      "File \u001b[1;32mpandas\\_libs\\hashtable_class_helper.pxi:5198\u001b[0m, in \u001b[0;36mpandas._libs.hashtable.PyObjectHashTable.get_item\u001b[1;34m()\u001b[0m\n",
      "File \u001b[1;32mpandas\\_libs\\hashtable_class_helper.pxi:5206\u001b[0m, in \u001b[0;36mpandas._libs.hashtable.PyObjectHashTable.get_item\u001b[1;34m()\u001b[0m\n",
      "\u001b[1;31mKeyError\u001b[0m: 0",
      "\nThe above exception was the direct cause of the following exception:\n",
      "\u001b[1;31mKeyError\u001b[0m                                  Traceback (most recent call last)",
      "Input \u001b[1;32mIn [172]\u001b[0m, in \u001b[0;36m<cell line: 2>\u001b[1;34m()\u001b[0m\n\u001b[0;32m      1\u001b[0m fig, axes \u001b[38;5;241m=\u001b[39m plt\u001b[38;5;241m.\u001b[39msubplots(\u001b[38;5;241m1\u001b[39m, figsize\u001b[38;5;241m=\u001b[39m(\u001b[38;5;241m16\u001b[39m,\u001b[38;5;241m8\u001b[39m))\n\u001b[1;32m----> 2\u001b[0m axes\u001b[38;5;241m.\u001b[39mscatter(\u001b[43mdf_cluster\u001b[49m\u001b[43m[\u001b[49m\u001b[38;5;241;43m0\u001b[39;49m\u001b[43m]\u001b[49m, df_cluster[\u001b[38;5;241m1\u001b[39m], c\u001b[38;5;241m=\u001b[39mdf_cluster[\u001b[38;5;124m'\u001b[39m\u001b[38;5;124mcluster_labels\u001b[39m\u001b[38;5;124m'\u001b[39m], cmap\u001b[38;5;241m=\u001b[39mplt\u001b[38;5;241m.\u001b[39mcm\u001b[38;5;241m.\u001b[39mSet1)\n\u001b[0;32m      3\u001b[0m axes\u001b[38;5;241m.\u001b[39mset_title(\u001b[38;5;124m'\u001b[39m\u001b[38;5;124mHierarchical\u001b[39m\u001b[38;5;124m'\u001b[39m, fontsize\u001b[38;5;241m=\u001b[39m\u001b[38;5;241m18\u001b[39m)\n",
      "File \u001b[1;32m~\\anaconda3\\lib\\site-packages\\pandas\\core\\frame.py:3505\u001b[0m, in \u001b[0;36mDataFrame.__getitem__\u001b[1;34m(self, key)\u001b[0m\n\u001b[0;32m   3503\u001b[0m \u001b[38;5;28;01mif\u001b[39;00m \u001b[38;5;28mself\u001b[39m\u001b[38;5;241m.\u001b[39mcolumns\u001b[38;5;241m.\u001b[39mnlevels \u001b[38;5;241m>\u001b[39m \u001b[38;5;241m1\u001b[39m:\n\u001b[0;32m   3504\u001b[0m     \u001b[38;5;28;01mreturn\u001b[39;00m \u001b[38;5;28mself\u001b[39m\u001b[38;5;241m.\u001b[39m_getitem_multilevel(key)\n\u001b[1;32m-> 3505\u001b[0m indexer \u001b[38;5;241m=\u001b[39m \u001b[38;5;28;43mself\u001b[39;49m\u001b[38;5;241;43m.\u001b[39;49m\u001b[43mcolumns\u001b[49m\u001b[38;5;241;43m.\u001b[39;49m\u001b[43mget_loc\u001b[49m\u001b[43m(\u001b[49m\u001b[43mkey\u001b[49m\u001b[43m)\u001b[49m\n\u001b[0;32m   3506\u001b[0m \u001b[38;5;28;01mif\u001b[39;00m is_integer(indexer):\n\u001b[0;32m   3507\u001b[0m     indexer \u001b[38;5;241m=\u001b[39m [indexer]\n",
      "File \u001b[1;32m~\\anaconda3\\lib\\site-packages\\pandas\\core\\indexes\\base.py:3631\u001b[0m, in \u001b[0;36mIndex.get_loc\u001b[1;34m(self, key, method, tolerance)\u001b[0m\n\u001b[0;32m   3629\u001b[0m     \u001b[38;5;28;01mreturn\u001b[39;00m \u001b[38;5;28mself\u001b[39m\u001b[38;5;241m.\u001b[39m_engine\u001b[38;5;241m.\u001b[39mget_loc(casted_key)\n\u001b[0;32m   3630\u001b[0m \u001b[38;5;28;01mexcept\u001b[39;00m \u001b[38;5;167;01mKeyError\u001b[39;00m \u001b[38;5;28;01mas\u001b[39;00m err:\n\u001b[1;32m-> 3631\u001b[0m     \u001b[38;5;28;01mraise\u001b[39;00m \u001b[38;5;167;01mKeyError\u001b[39;00m(key) \u001b[38;5;28;01mfrom\u001b[39;00m \u001b[38;5;21;01merr\u001b[39;00m\n\u001b[0;32m   3632\u001b[0m \u001b[38;5;28;01mexcept\u001b[39;00m \u001b[38;5;167;01mTypeError\u001b[39;00m:\n\u001b[0;32m   3633\u001b[0m     \u001b[38;5;66;03m# If we have a listlike key, _check_indexing_error will raise\u001b[39;00m\n\u001b[0;32m   3634\u001b[0m     \u001b[38;5;66;03m#  InvalidIndexError. Otherwise we fall through and re-raise\u001b[39;00m\n\u001b[0;32m   3635\u001b[0m     \u001b[38;5;66;03m#  the TypeError.\u001b[39;00m\n\u001b[0;32m   3636\u001b[0m     \u001b[38;5;28mself\u001b[39m\u001b[38;5;241m.\u001b[39m_check_indexing_error(key)\n",
      "\u001b[1;31mKeyError\u001b[0m: 0"
     ]
    },
    {
     "data": {
      "image/png": "[encoded data removed]",
      "text/plain": [
       "<Figure size 1152x576 with 1 Axes>"
      ]
     },
     "metadata": {
      "needs_background": "light"
     },
     "output_type": "display_data"
    }
   ],
   "source": [
    "fig, axes = plt.subplots(1, figsize=(16,8))\n",
    "axes.scatter(df_cluster[0], df_cluster[1], c=df_cluster['cluster_labels'], cmap=plt.cm.Set1)\n",
    "axes.set_title('Hierarchical', fontsize=18)\n"
   ]
  },
  {
   "cell_type": "code",
   "execution_count": null,
   "id": "37e7f49c-4ef2-4a2e-a4b9-b72e806e572f",
   "metadata": {},
   "outputs": [],
   "source": []
  }
 ],
 "metadata": {
  "kernelspec": {
   "display_name": "Python 3 (ipykernel)",
   "language": "python",
   "name": "python3"
  },
  "language_info": {
   "codemirror_mode": {
    "name": "ipython",
    "version": 3
   },
   "file_extension": ".py",
   "mimetype": "text/x-python",
   "name": "python",
   "nbconvert_exporter": "python",
   "pygments_lexer": "ipython3",
   "version": "3.9.12"
  }
 },
 "nbformat": 4,
 "nbformat_minor": 5
}
